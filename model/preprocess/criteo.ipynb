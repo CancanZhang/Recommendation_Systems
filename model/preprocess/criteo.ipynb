{
 "cells": [
  {
   "cell_type": "code",
   "execution_count": 2,
   "metadata": {},
   "outputs": [],
   "source": [
    "from utils import *\n",
    "from avazu import *\n",
    "from criteo import *\n"
   ]
  },
  {
   "cell_type": "code",
   "execution_count": 3,
   "metadata": {},
   "outputs": [],
   "source": [
    "prefix = '/data/users/jupyter-caz322/lehigh_courses/DSCI_441/Recommendation_Systems/'\n",
    "source_dir = prefix + 'datasets/Criteo'\n",
    "target_dir = prefix + 'datasets/Criteo-new'\n",
    "    \n",
    "CONTS = 13\n",
    "CATES = 26\n",
    "COMBS = 325\n",
    "cont_cols = [\"cont_{}\".format(i+1) for i in range(CONTS)]\n",
    "cate_cols = [\"cate_{}\".format(i+1) for i in range(CATES)]\n",
    "\n",
    "# Read data\n",
    "train_X, train_y = read_data(source_dir, CONTS, CATES, name='train')\n",
    "test_X,  test_y  = read_data(source_dir, CONTS, CATES, name='test')"
   ]
  },
  {
   "cell_type": "code",
   "execution_count": 4,
   "metadata": {},
   "outputs": [
    {
     "data": {
      "text/plain": [
       "(36672493, 39)"
      ]
     },
     "execution_count": 4,
     "metadata": {},
     "output_type": "execute_result"
    }
   ],
   "source": [
    "train_X.shape"
   ]
  },
  {
   "cell_type": "code",
   "execution_count": null,
   "metadata": {},
   "outputs": [],
   "source": []
  }
 ],
 "metadata": {
  "kernelspec": {
   "display_name": "Python 3",
   "language": "python",
   "name": "python3"
  },
  "language_info": {
   "codemirror_mode": {
    "name": "ipython",
    "version": 3
   },
   "file_extension": ".py",
   "mimetype": "text/x-python",
   "name": "python",
   "nbconvert_exporter": "python",
   "pygments_lexer": "ipython3",
   "version": "3.7.6"
  }
 },
 "nbformat": 4,
 "nbformat_minor": 4
}
